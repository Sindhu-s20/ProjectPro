{
  "cells": [
    {
      "cell_type": "markdown",
      "metadata": {
        "id": "U0jGb4pvyIx5"
      },
      "source": [
        "## Transfer Learning Resenet50"
      ]
    },
    {
      "cell_type": "code",
      "source": [
        "from google.colab import drive\n",
        "drive.mount('/content/drive')"
      ],
      "metadata": {
        "colab": {
          "base_uri": "https://localhost:8080/"
        },
        "id": "uWqvEXyIC45w",
        "outputId": "b5260f34-41ac-4c7e-e8e8-0c9f69bc240a"
      },
      "execution_count": null,
      "outputs": [
        {
          "output_type": "stream",
          "name": "stdout",
          "text": [
            "Drive already mounted at /content/drive; to attempt to forcibly remount, call drive.mount(\"/content/drive\", force_remount=True).\n"
          ]
        }
      ]
    },
    {
      "cell_type": "markdown",
      "metadata": {
        "id": "l9WCp7mSyIyA"
      },
      "source": [
        "Please download the dataset from the below url"
      ]
    },
    {
      "cell_type": "code",
      "execution_count": null,
      "metadata": {
        "id": "Ts8y_uzxyIyB",
        "colab": {
          "base_uri": "https://localhost:8080/"
        },
        "outputId": "df6e14a6-d03e-459f-9af3-43e70e4d98d3"
      },
      "outputs": [
        {
          "output_type": "stream",
          "name": "stderr",
          "text": [
            "/usr/local/lib/python3.10/dist-packages/tensorflow/python/client/session.py:1769: UserWarning: An interactive session is already active. This can cause out-of-memory errors in some cases. You must explicitly call `InteractiveSession.close()` to release resources held by the other session(s).\n",
            "  warnings.warn('An interactive session is already active. This can '\n"
          ]
        }
      ],
      "source": [
        "from tensorflow.compat.v1 import ConfigProto\n",
        "from tensorflow.compat.v1 import InteractiveSession\n",
        "\n",
        "config = ConfigProto()\n",
        "config.gpu_options.per_process_gpu_memory_fraction = 0.5\n",
        "config.gpu_options.allow_growth = True\n",
        "session = InteractiveSession(config=config)"
      ]
    },
    {
      "cell_type": "code",
      "execution_count": null,
      "metadata": {
        "id": "ERXuko64yIyD"
      },
      "outputs": [],
      "source": [
        "# import the libraries as shown below\n",
        "\n",
        "from tensorflow.keras.layers import Input, Lambda, Dense, Flatten\n",
        "from tensorflow.keras.models import Model\n",
        "from tensorflow.keras.applications.resnet50 import ResNet50\n",
        "#from keras.applications.vgg16 import VGG16\n",
        "\n",
        "from tensorflow.keras.applications.resnet_v2 import ResNet101V2\n",
        "from tensorflow.keras.applications.resnet50 import preprocess_input\n",
        "from tensorflow.keras.preprocessing import image\n",
        "from tensorflow.keras.preprocessing.image import ImageDataGenerator,load_img\n",
        "from tensorflow.keras.models import Sequential\n",
        "import numpy as np\n",
        "from glob import glob\n",
        "#import matplotlib.pyplot as plt"
      ]
    },
    {
      "cell_type": "code",
      "execution_count": null,
      "metadata": {
        "id": "ciQuInMGyIyE"
      },
      "outputs": [],
      "source": [
        "# re-size all the images to this\n",
        "IMAGE_SIZE = [224, 224]\n",
        "\n",
        "train_path = '/content/drive/MyDrive/newwwwwww/train'\n",
        "valid_path = '/content/drive/MyDrive/newwwwwww/test'\n"
      ]
    },
    {
      "cell_type": "code",
      "execution_count": null,
      "metadata": {
        "colab": {
          "base_uri": "https://localhost:8080/"
        },
        "id": "6xsU8YvgyIyF",
        "outputId": "f2d372a6-fd8e-4c43-de49-3081c8be0d8c"
      },
      "outputs": [
        {
          "output_type": "stream",
          "name": "stdout",
          "text": [
            "Downloading data from https://storage.googleapis.com/tensorflow/keras-applications/resnet/resnet50_weights_tf_dim_ordering_tf_kernels_notop.h5\n",
            "94765736/94765736 [==============================] - 5s 0us/step\n"
          ]
        }
      ],
      "source": [
        "# Import the Vgg 16 library as shown below and add preprocessing layer to the front of VGG\n",
        "# Here we will be using imagenet weights\n",
        "\n",
        "resnet = ResNet50(input_shape=IMAGE_SIZE + [3], weights='imagenet', include_top=False)\n",
        "\n",
        "#resnet=ResNet101V2(input_shape=IMAGE_SIZE + [3],include_top=False, weights='imagenet')\n",
        "\n",
        "\n"
      ]
    },
    {
      "cell_type": "code",
      "execution_count": null,
      "metadata": {
        "id": "ykIB74APyIyG"
      },
      "outputs": [],
      "source": [
        "# don't train existing weights\n",
        "for layer in resnet.layers:\n",
        "    layer.trainable = False"
      ]
    },
    {
      "cell_type": "code",
      "execution_count": null,
      "metadata": {
        "id": "EBZFnfoCyIyH",
        "colab": {
          "base_uri": "https://localhost:8080/"
        },
        "outputId": "256d0c07-7a62-4b22-8c19-56f9b98b3653"
      },
      "outputs": [
        {
          "output_type": "execute_result",
          "data": {
            "text/plain": [
              "['/content/drive/MyDrive/dataset/train/roten apple (1)',\n",
              " '/content/drive/MyDrive/dataset/train/rotten bannana (1)',\n",
              " '/content/drive/MyDrive/dataset/train/roten orange (1)',\n",
              " '/content/drive/MyDrive/dataset/train/fresh applel (1)',\n",
              " '/content/drive/MyDrive/dataset/train/fresh orange (1)',\n",
              " '/content/drive/MyDrive/dataset/train/fresh banana (1)']"
            ]
          },
          "metadata": {},
          "execution_count": 61
        }
      ],
      "source": [
        "  # useful for getting number of output classes\n",
        "folders = glob('/content/drive/MyDrive/dataset/train/*')\n",
        "folders"
      ]
    },
    {
      "cell_type": "code",
      "execution_count": null,
      "metadata": {
        "id": "dXnexqmOyIyI"
      },
      "outputs": [],
      "source": [
        "# our layers - you can add more if you want\n",
        "x = Flatten()(resnet.output)"
      ]
    },
    {
      "cell_type": "code",
      "execution_count": null,
      "metadata": {
        "id": "-Y7hD-IWyIyI"
      },
      "outputs": [],
      "source": [
        "prediction = Dense(len(folders), activation='softmax')(x)\n",
        "\n",
        "# create a model object\n",
        "model = Model(inputs=resnet.input, outputs=prediction)"
      ]
    },
    {
      "cell_type": "code",
      "execution_count": null,
      "metadata": {
        "colab": {
          "base_uri": "https://localhost:8080/"
        },
        "id": "bQUyd8jVyIyJ",
        "outputId": "15ed374d-cc83-46ca-8ccc-cb0286ca7d92"
      },
      "outputs": [
        {
          "output_type": "stream",
          "name": "stdout",
          "text": [
            "Model: \"model_1\"\n",
            "__________________________________________________________________________________________________\n",
            " Layer (type)                   Output Shape         Param #     Connected to                     \n",
            "==================================================================================================\n",
            " input_2 (InputLayer)           [(None, 224, 224, 3  0           []                               \n",
            "                                )]                                                                \n",
            "                                                                                                  \n",
            " conv1_pad (ZeroPadding2D)      (None, 230, 230, 3)  0           ['input_2[0][0]']                \n",
            "                                                                                                  \n",
            " conv1_conv (Conv2D)            (None, 112, 112, 64  9472        ['conv1_pad[0][0]']              \n",
            "                                )                                                                 \n",
            "                                                                                                  \n",
            " conv1_bn (BatchNormalization)  (None, 112, 112, 64  256         ['conv1_conv[0][0]']             \n",
            "                                )                                                                 \n",
            "                                                                                                  \n",
            " conv1_relu (Activation)        (None, 112, 112, 64  0           ['conv1_bn[0][0]']               \n",
            "                                )                                                                 \n",
            "                                                                                                  \n",
            " pool1_pad (ZeroPadding2D)      (None, 114, 114, 64  0           ['conv1_relu[0][0]']             \n",
            "                                )                                                                 \n",
            "                                                                                                  \n",
            " pool1_pool (MaxPooling2D)      (None, 56, 56, 64)   0           ['pool1_pad[0][0]']              \n",
            "                                                                                                  \n",
            " conv2_block1_1_conv (Conv2D)   (None, 56, 56, 64)   4160        ['pool1_pool[0][0]']             \n",
            "                                                                                                  \n",
            " conv2_block1_1_bn (BatchNormal  (None, 56, 56, 64)  256         ['conv2_block1_1_conv[0][0]']    \n",
            " ization)                                                                                         \n",
            "                                                                                                  \n",
            " conv2_block1_1_relu (Activatio  (None, 56, 56, 64)  0           ['conv2_block1_1_bn[0][0]']      \n",
            " n)                                                                                               \n",
            "                                                                                                  \n",
            " conv2_block1_2_conv (Conv2D)   (None, 56, 56, 64)   36928       ['conv2_block1_1_relu[0][0]']    \n",
            "                                                                                                  \n",
            " conv2_block1_2_bn (BatchNormal  (None, 56, 56, 64)  256         ['conv2_block1_2_conv[0][0]']    \n",
            " ization)                                                                                         \n",
            "                                                                                                  \n",
            " conv2_block1_2_relu (Activatio  (None, 56, 56, 64)  0           ['conv2_block1_2_bn[0][0]']      \n",
            " n)                                                                                               \n",
            "                                                                                                  \n",
            " conv2_block1_0_conv (Conv2D)   (None, 56, 56, 256)  16640       ['pool1_pool[0][0]']             \n",
            "                                                                                                  \n",
            " conv2_block1_3_conv (Conv2D)   (None, 56, 56, 256)  16640       ['conv2_block1_2_relu[0][0]']    \n",
            "                                                                                                  \n",
            " conv2_block1_0_bn (BatchNormal  (None, 56, 56, 256)  1024       ['conv2_block1_0_conv[0][0]']    \n",
            " ization)                                                                                         \n",
            "                                                                                                  \n",
            " conv2_block1_3_bn (BatchNormal  (None, 56, 56, 256)  1024       ['conv2_block1_3_conv[0][0]']    \n",
            " ization)                                                                                         \n",
            "                                                                                                  \n",
            " conv2_block1_add (Add)         (None, 56, 56, 256)  0           ['conv2_block1_0_bn[0][0]',      \n",
            "                                                                  'conv2_block1_3_bn[0][0]']      \n",
            "                                                                                                  \n",
            " conv2_block1_out (Activation)  (None, 56, 56, 256)  0           ['conv2_block1_add[0][0]']       \n",
            "                                                                                                  \n",
            " conv2_block2_1_conv (Conv2D)   (None, 56, 56, 64)   16448       ['conv2_block1_out[0][0]']       \n",
            "                                                                                                  \n",
            " conv2_block2_1_bn (BatchNormal  (None, 56, 56, 64)  256         ['conv2_block2_1_conv[0][0]']    \n",
            " ization)                                                                                         \n",
            "                                                                                                  \n",
            " conv2_block2_1_relu (Activatio  (None, 56, 56, 64)  0           ['conv2_block2_1_bn[0][0]']      \n",
            " n)                                                                                               \n",
            "                                                                                                  \n",
            " conv2_block2_2_conv (Conv2D)   (None, 56, 56, 64)   36928       ['conv2_block2_1_relu[0][0]']    \n",
            "                                                                                                  \n",
            " conv2_block2_2_bn (BatchNormal  (None, 56, 56, 64)  256         ['conv2_block2_2_conv[0][0]']    \n",
            " ization)                                                                                         \n",
            "                                                                                                  \n",
            " conv2_block2_2_relu (Activatio  (None, 56, 56, 64)  0           ['conv2_block2_2_bn[0][0]']      \n",
            " n)                                                                                               \n",
            "                                                                                                  \n",
            " conv2_block2_3_conv (Conv2D)   (None, 56, 56, 256)  16640       ['conv2_block2_2_relu[0][0]']    \n",
            "                                                                                                  \n",
            " conv2_block2_3_bn (BatchNormal  (None, 56, 56, 256)  1024       ['conv2_block2_3_conv[0][0]']    \n",
            " ization)                                                                                         \n",
            "                                                                                                  \n",
            " conv2_block2_add (Add)         (None, 56, 56, 256)  0           ['conv2_block1_out[0][0]',       \n",
            "                                                                  'conv2_block2_3_bn[0][0]']      \n",
            "                                                                                                  \n",
            " conv2_block2_out (Activation)  (None, 56, 56, 256)  0           ['conv2_block2_add[0][0]']       \n",
            "                                                                                                  \n",
            " conv2_block3_1_conv (Conv2D)   (None, 56, 56, 64)   16448       ['conv2_block2_out[0][0]']       \n",
            "                                                                                                  \n",
            " conv2_block3_1_bn (BatchNormal  (None, 56, 56, 64)  256         ['conv2_block3_1_conv[0][0]']    \n",
            " ization)                                                                                         \n",
            "                                                                                                  \n",
            " conv2_block3_1_relu (Activatio  (None, 56, 56, 64)  0           ['conv2_block3_1_bn[0][0]']      \n",
            " n)                                                                                               \n",
            "                                                                                                  \n",
            " conv2_block3_2_conv (Conv2D)   (None, 56, 56, 64)   36928       ['conv2_block3_1_relu[0][0]']    \n",
            "                                                                                                  \n",
            " conv2_block3_2_bn (BatchNormal  (None, 56, 56, 64)  256         ['conv2_block3_2_conv[0][0]']    \n",
            " ization)                                                                                         \n",
            "                                                                                                  \n",
            " conv2_block3_2_relu (Activatio  (None, 56, 56, 64)  0           ['conv2_block3_2_bn[0][0]']      \n",
            " n)                                                                                               \n",
            "                                                                                                  \n",
            " conv2_block3_3_conv (Conv2D)   (None, 56, 56, 256)  16640       ['conv2_block3_2_relu[0][0]']    \n",
            "                                                                                                  \n",
            " conv2_block3_3_bn (BatchNormal  (None, 56, 56, 256)  1024       ['conv2_block3_3_conv[0][0]']    \n",
            " ization)                                                                                         \n",
            "                                                                                                  \n",
            " conv2_block3_add (Add)         (None, 56, 56, 256)  0           ['conv2_block2_out[0][0]',       \n",
            "                                                                  'conv2_block3_3_bn[0][0]']      \n",
            "                                                                                                  \n",
            " conv2_block3_out (Activation)  (None, 56, 56, 256)  0           ['conv2_block3_add[0][0]']       \n",
            "                                                                                                  \n",
            " conv3_block1_1_conv (Conv2D)   (None, 28, 28, 128)  32896       ['conv2_block3_out[0][0]']       \n",
            "                                                                                                  \n",
            " conv3_block1_1_bn (BatchNormal  (None, 28, 28, 128)  512        ['conv3_block1_1_conv[0][0]']    \n",
            " ization)                                                                                         \n",
            "                                                                                                  \n",
            " conv3_block1_1_relu (Activatio  (None, 28, 28, 128)  0          ['conv3_block1_1_bn[0][0]']      \n",
            " n)                                                                                               \n",
            "                                                                                                  \n",
            " conv3_block1_2_conv (Conv2D)   (None, 28, 28, 128)  147584      ['conv3_block1_1_relu[0][0]']    \n",
            "                                                                                                  \n",
            " conv3_block1_2_bn (BatchNormal  (None, 28, 28, 128)  512        ['conv3_block1_2_conv[0][0]']    \n",
            " ization)                                                                                         \n",
            "                                                                                                  \n",
            " conv3_block1_2_relu (Activatio  (None, 28, 28, 128)  0          ['conv3_block1_2_bn[0][0]']      \n",
            " n)                                                                                               \n",
            "                                                                                                  \n",
            " conv3_block1_0_conv (Conv2D)   (None, 28, 28, 512)  131584      ['conv2_block3_out[0][0]']       \n",
            "                                                                                                  \n",
            " conv3_block1_3_conv (Conv2D)   (None, 28, 28, 512)  66048       ['conv3_block1_2_relu[0][0]']    \n",
            "                                                                                                  \n",
            " conv3_block1_0_bn (BatchNormal  (None, 28, 28, 512)  2048       ['conv3_block1_0_conv[0][0]']    \n",
            " ization)                                                                                         \n",
            "                                                                                                  \n",
            " conv3_block1_3_bn (BatchNormal  (None, 28, 28, 512)  2048       ['conv3_block1_3_conv[0][0]']    \n",
            " ization)                                                                                         \n",
            "                                                                                                  \n",
            " conv3_block1_add (Add)         (None, 28, 28, 512)  0           ['conv3_block1_0_bn[0][0]',      \n",
            "                                                                  'conv3_block1_3_bn[0][0]']      \n",
            "                                                                                                  \n",
            " conv3_block1_out (Activation)  (None, 28, 28, 512)  0           ['conv3_block1_add[0][0]']       \n",
            "                                                                                                  \n",
            " conv3_block2_1_conv (Conv2D)   (None, 28, 28, 128)  65664       ['conv3_block1_out[0][0]']       \n",
            "                                                                                                  \n",
            " conv3_block2_1_bn (BatchNormal  (None, 28, 28, 128)  512        ['conv3_block2_1_conv[0][0]']    \n",
            " ization)                                                                                         \n",
            "                                                                                                  \n",
            " conv3_block2_1_relu (Activatio  (None, 28, 28, 128)  0          ['conv3_block2_1_bn[0][0]']      \n",
            " n)                                                                                               \n",
            "                                                                                                  \n",
            " conv3_block2_2_conv (Conv2D)   (None, 28, 28, 128)  147584      ['conv3_block2_1_relu[0][0]']    \n",
            "                                                                                                  \n",
            " conv3_block2_2_bn (BatchNormal  (None, 28, 28, 128)  512        ['conv3_block2_2_conv[0][0]']    \n",
            " ization)                                                                                         \n",
            "                                                                                                  \n",
            " conv3_block2_2_relu (Activatio  (None, 28, 28, 128)  0          ['conv3_block2_2_bn[0][0]']      \n",
            " n)                                                                                               \n",
            "                                                                                                  \n",
            " conv3_block2_3_conv (Conv2D)   (None, 28, 28, 512)  66048       ['conv3_block2_2_relu[0][0]']    \n",
            "                                                                                                  \n",
            " conv3_block2_3_bn (BatchNormal  (None, 28, 28, 512)  2048       ['conv3_block2_3_conv[0][0]']    \n",
            " ization)                                                                                         \n",
            "                                                                                                  \n",
            " conv3_block2_add (Add)         (None, 28, 28, 512)  0           ['conv3_block1_out[0][0]',       \n",
            "                                                                  'conv3_block2_3_bn[0][0]']      \n",
            "                                                                                                  \n",
            " conv3_block2_out (Activation)  (None, 28, 28, 512)  0           ['conv3_block2_add[0][0]']       \n",
            "                                                                                                  \n",
            " conv3_block3_1_conv (Conv2D)   (None, 28, 28, 128)  65664       ['conv3_block2_out[0][0]']       \n",
            "                                                                                                  \n",
            " conv3_block3_1_bn (BatchNormal  (None, 28, 28, 128)  512        ['conv3_block3_1_conv[0][0]']    \n",
            " ization)                                                                                         \n",
            "                                                                                                  \n",
            " conv3_block3_1_relu (Activatio  (None, 28, 28, 128)  0          ['conv3_block3_1_bn[0][0]']      \n",
            " n)                                                                                               \n",
            "                                                                                                  \n",
            " conv3_block3_2_conv (Conv2D)   (None, 28, 28, 128)  147584      ['conv3_block3_1_relu[0][0]']    \n",
            "                                                                                                  \n",
            " conv3_block3_2_bn (BatchNormal  (None, 28, 28, 128)  512        ['conv3_block3_2_conv[0][0]']    \n",
            " ization)                                                                                         \n",
            "                                                                                                  \n",
            " conv3_block3_2_relu (Activatio  (None, 28, 28, 128)  0          ['conv3_block3_2_bn[0][0]']      \n",
            " n)                                                                                               \n",
            "                                                                                                  \n",
            " conv3_block3_3_conv (Conv2D)   (None, 28, 28, 512)  66048       ['conv3_block3_2_relu[0][0]']    \n",
            "                                                                                                  \n",
            " conv3_block3_3_bn (BatchNormal  (None, 28, 28, 512)  2048       ['conv3_block3_3_conv[0][0]']    \n",
            " ization)                                                                                         \n",
            "                                                                                                  \n",
            " conv3_block3_add (Add)         (None, 28, 28, 512)  0           ['conv3_block2_out[0][0]',       \n",
            "                                                                  'conv3_block3_3_bn[0][0]']      \n",
            "                                                                                                  \n",
            " conv3_block3_out (Activation)  (None, 28, 28, 512)  0           ['conv3_block3_add[0][0]']       \n",
            "                                                                                                  \n",
            " conv3_block4_1_conv (Conv2D)   (None, 28, 28, 128)  65664       ['conv3_block3_out[0][0]']       \n",
            "                                                                                                  \n",
            " conv3_block4_1_bn (BatchNormal  (None, 28, 28, 128)  512        ['conv3_block4_1_conv[0][0]']    \n",
            " ization)                                                                                         \n",
            "                                                                                                  \n",
            " conv3_block4_1_relu (Activatio  (None, 28, 28, 128)  0          ['conv3_block4_1_bn[0][0]']      \n",
            " n)                                                                                               \n",
            "                                                                                                  \n",
            " conv3_block4_2_conv (Conv2D)   (None, 28, 28, 128)  147584      ['conv3_block4_1_relu[0][0]']    \n",
            "                                                                                                  \n",
            " conv3_block4_2_bn (BatchNormal  (None, 28, 28, 128)  512        ['conv3_block4_2_conv[0][0]']    \n",
            " ization)                                                                                         \n",
            "                                                                                                  \n",
            " conv3_block4_2_relu (Activatio  (None, 28, 28, 128)  0          ['conv3_block4_2_bn[0][0]']      \n",
            " n)                                                                                               \n",
            "                                                                                                  \n",
            " conv3_block4_3_conv (Conv2D)   (None, 28, 28, 512)  66048       ['conv3_block4_2_relu[0][0]']    \n",
            "                                                                                                  \n",
            " conv3_block4_3_bn (BatchNormal  (None, 28, 28, 512)  2048       ['conv3_block4_3_conv[0][0]']    \n",
            " ization)                                                                                         \n",
            "                                                                                                  \n",
            " conv3_block4_add (Add)         (None, 28, 28, 512)  0           ['conv3_block3_out[0][0]',       \n",
            "                                                                  'conv3_block4_3_bn[0][0]']      \n",
            "                                                                                                  \n",
            " conv3_block4_out (Activation)  (None, 28, 28, 512)  0           ['conv3_block4_add[0][0]']       \n",
            "                                                                                                  \n",
            " conv4_block1_1_conv (Conv2D)   (None, 14, 14, 256)  131328      ['conv3_block4_out[0][0]']       \n",
            "                                                                                                  \n",
            " conv4_block1_1_bn (BatchNormal  (None, 14, 14, 256)  1024       ['conv4_block1_1_conv[0][0]']    \n",
            " ization)                                                                                         \n",
            "                                                                                                  \n",
            " conv4_block1_1_relu (Activatio  (None, 14, 14, 256)  0          ['conv4_block1_1_bn[0][0]']      \n",
            " n)                                                                                               \n",
            "                                                                                                  \n",
            " conv4_block1_2_conv (Conv2D)   (None, 14, 14, 256)  590080      ['conv4_block1_1_relu[0][0]']    \n",
            "                                                                                                  \n",
            " conv4_block1_2_bn (BatchNormal  (None, 14, 14, 256)  1024       ['conv4_block1_2_conv[0][0]']    \n",
            " ization)                                                                                         \n",
            "                                                                                                  \n",
            " conv4_block1_2_relu (Activatio  (None, 14, 14, 256)  0          ['conv4_block1_2_bn[0][0]']      \n",
            " n)                                                                                               \n",
            "                                                                                                  \n",
            " conv4_block1_0_conv (Conv2D)   (None, 14, 14, 1024  525312      ['conv3_block4_out[0][0]']       \n",
            "                                )                                                                 \n",
            "                                                                                                  \n",
            " conv4_block1_3_conv (Conv2D)   (None, 14, 14, 1024  263168      ['conv4_block1_2_relu[0][0]']    \n",
            "                                )                                                                 \n",
            "                                                                                                  \n",
            " conv4_block1_0_bn (BatchNormal  (None, 14, 14, 1024  4096       ['conv4_block1_0_conv[0][0]']    \n",
            " ization)                       )                                                                 \n",
            "                                                                                                  \n",
            " conv4_block1_3_bn (BatchNormal  (None, 14, 14, 1024  4096       ['conv4_block1_3_conv[0][0]']    \n",
            " ization)                       )                                                                 \n",
            "                                                                                                  \n",
            " conv4_block1_add (Add)         (None, 14, 14, 1024  0           ['conv4_block1_0_bn[0][0]',      \n",
            "                                )                                 'conv4_block1_3_bn[0][0]']      \n",
            "                                                                                                  \n",
            " conv4_block1_out (Activation)  (None, 14, 14, 1024  0           ['conv4_block1_add[0][0]']       \n",
            "                                )                                                                 \n",
            "                                                                                                  \n",
            " conv4_block2_1_conv (Conv2D)   (None, 14, 14, 256)  262400      ['conv4_block1_out[0][0]']       \n",
            "                                                                                                  \n",
            " conv4_block2_1_bn (BatchNormal  (None, 14, 14, 256)  1024       ['conv4_block2_1_conv[0][0]']    \n",
            " ization)                                                                                         \n",
            "                                                                                                  \n",
            " conv4_block2_1_relu (Activatio  (None, 14, 14, 256)  0          ['conv4_block2_1_bn[0][0]']      \n",
            " n)                                                                                               \n",
            "                                                                                                  \n",
            " conv4_block2_2_conv (Conv2D)   (None, 14, 14, 256)  590080      ['conv4_block2_1_relu[0][0]']    \n",
            "                                                                                                  \n",
            " conv4_block2_2_bn (BatchNormal  (None, 14, 14, 256)  1024       ['conv4_block2_2_conv[0][0]']    \n",
            " ization)                                                                                         \n",
            "                                                                                                  \n",
            " conv4_block2_2_relu (Activatio  (None, 14, 14, 256)  0          ['conv4_block2_2_bn[0][0]']      \n",
            " n)                                                                                               \n",
            "                                                                                                  \n",
            " conv4_block2_3_conv (Conv2D)   (None, 14, 14, 1024  263168      ['conv4_block2_2_relu[0][0]']    \n",
            "                                )                                                                 \n",
            "                                                                                                  \n",
            " conv4_block2_3_bn (BatchNormal  (None, 14, 14, 1024  4096       ['conv4_block2_3_conv[0][0]']    \n",
            " ization)                       )                                                                 \n",
            "                                                                                                  \n",
            " conv4_block2_add (Add)         (None, 14, 14, 1024  0           ['conv4_block1_out[0][0]',       \n",
            "                                )                                 'conv4_block2_3_bn[0][0]']      \n",
            "                                                                                                  \n",
            " conv4_block2_out (Activation)  (None, 14, 14, 1024  0           ['conv4_block2_add[0][0]']       \n",
            "                                )                                                                 \n",
            "                                                                                                  \n",
            " conv4_block3_1_conv (Conv2D)   (None, 14, 14, 256)  262400      ['conv4_block2_out[0][0]']       \n",
            "                                                                                                  \n",
            " conv4_block3_1_bn (BatchNormal  (None, 14, 14, 256)  1024       ['conv4_block3_1_conv[0][0]']    \n",
            " ization)                                                                                         \n",
            "                                                                                                  \n",
            " conv4_block3_1_relu (Activatio  (None, 14, 14, 256)  0          ['conv4_block3_1_bn[0][0]']      \n",
            " n)                                                                                               \n",
            "                                                                                                  \n",
            " conv4_block3_2_conv (Conv2D)   (None, 14, 14, 256)  590080      ['conv4_block3_1_relu[0][0]']    \n",
            "                                                                                                  \n",
            " conv4_block3_2_bn (BatchNormal  (None, 14, 14, 256)  1024       ['conv4_block3_2_conv[0][0]']    \n",
            " ization)                                                                                         \n",
            "                                                                                                  \n",
            " conv4_block3_2_relu (Activatio  (None, 14, 14, 256)  0          ['conv4_block3_2_bn[0][0]']      \n",
            " n)                                                                                               \n",
            "                                                                                                  \n",
            " conv4_block3_3_conv (Conv2D)   (None, 14, 14, 1024  263168      ['conv4_block3_2_relu[0][0]']    \n",
            "                                )                                                                 \n",
            "                                                                                                  \n",
            " conv4_block3_3_bn (BatchNormal  (None, 14, 14, 1024  4096       ['conv4_block3_3_conv[0][0]']    \n",
            " ization)                       )                                                                 \n",
            "                                                                                                  \n",
            " conv4_block3_add (Add)         (None, 14, 14, 1024  0           ['conv4_block2_out[0][0]',       \n",
            "                                )                                 'conv4_block3_3_bn[0][0]']      \n",
            "                                                                                                  \n",
            " conv4_block3_out (Activation)  (None, 14, 14, 1024  0           ['conv4_block3_add[0][0]']       \n",
            "                                )                                                                 \n",
            "                                                                                                  \n",
            " conv4_block4_1_conv (Conv2D)   (None, 14, 14, 256)  262400      ['conv4_block3_out[0][0]']       \n",
            "                                                                                                  \n",
            " conv4_block4_1_bn (BatchNormal  (None, 14, 14, 256)  1024       ['conv4_block4_1_conv[0][0]']    \n",
            " ization)                                                                                         \n",
            "                                                                                                  \n",
            " conv4_block4_1_relu (Activatio  (None, 14, 14, 256)  0          ['conv4_block4_1_bn[0][0]']      \n",
            " n)                                                                                               \n",
            "                                                                                                  \n",
            " conv4_block4_2_conv (Conv2D)   (None, 14, 14, 256)  590080      ['conv4_block4_1_relu[0][0]']    \n",
            "                                                                                                  \n",
            " conv4_block4_2_bn (BatchNormal  (None, 14, 14, 256)  1024       ['conv4_block4_2_conv[0][0]']    \n",
            " ization)                                                                                         \n",
            "                                                                                                  \n",
            " conv4_block4_2_relu (Activatio  (None, 14, 14, 256)  0          ['conv4_block4_2_bn[0][0]']      \n",
            " n)                                                                                               \n",
            "                                                                                                  \n",
            " conv4_block4_3_conv (Conv2D)   (None, 14, 14, 1024  263168      ['conv4_block4_2_relu[0][0]']    \n",
            "                                )                                                                 \n",
            "                                                                                                  \n",
            " conv4_block4_3_bn (BatchNormal  (None, 14, 14, 1024  4096       ['conv4_block4_3_conv[0][0]']    \n",
            " ization)                       )                                                                 \n",
            "                                                                                                  \n",
            " conv4_block4_add (Add)         (None, 14, 14, 1024  0           ['conv4_block3_out[0][0]',       \n",
            "                                )                                 'conv4_block4_3_bn[0][0]']      \n",
            "                                                                                                  \n",
            " conv4_block4_out (Activation)  (None, 14, 14, 1024  0           ['conv4_block4_add[0][0]']       \n",
            "                                )                                                                 \n",
            "                                                                                                  \n",
            " conv4_block5_1_conv (Conv2D)   (None, 14, 14, 256)  262400      ['conv4_block4_out[0][0]']       \n",
            "                                                                                                  \n",
            " conv4_block5_1_bn (BatchNormal  (None, 14, 14, 256)  1024       ['conv4_block5_1_conv[0][0]']    \n",
            " ization)                                                                                         \n",
            "                                                                                                  \n",
            " conv4_block5_1_relu (Activatio  (None, 14, 14, 256)  0          ['conv4_block5_1_bn[0][0]']      \n",
            " n)                                                                                               \n",
            "                                                                                                  \n",
            " conv4_block5_2_conv (Conv2D)   (None, 14, 14, 256)  590080      ['conv4_block5_1_relu[0][0]']    \n",
            "                                                                                                  \n",
            " conv4_block5_2_bn (BatchNormal  (None, 14, 14, 256)  1024       ['conv4_block5_2_conv[0][0]']    \n",
            " ization)                                                                                         \n",
            "                                                                                                  \n",
            " conv4_block5_2_relu (Activatio  (None, 14, 14, 256)  0          ['conv4_block5_2_bn[0][0]']      \n",
            " n)                                                                                               \n",
            "                                                                                                  \n",
            " conv4_block5_3_conv (Conv2D)   (None, 14, 14, 1024  263168      ['conv4_block5_2_relu[0][0]']    \n",
            "                                )                                                                 \n",
            "                                                                                                  \n",
            " conv4_block5_3_bn (BatchNormal  (None, 14, 14, 1024  4096       ['conv4_block5_3_conv[0][0]']    \n",
            " ization)                       )                                                                 \n",
            "                                                                                                  \n",
            " conv4_block5_add (Add)         (None, 14, 14, 1024  0           ['conv4_block4_out[0][0]',       \n",
            "                                )                                 'conv4_block5_3_bn[0][0]']      \n",
            "                                                                                                  \n",
            " conv4_block5_out (Activation)  (None, 14, 14, 1024  0           ['conv4_block5_add[0][0]']       \n",
            "                                )                                                                 \n",
            "                                                                                                  \n",
            " conv4_block6_1_conv (Conv2D)   (None, 14, 14, 256)  262400      ['conv4_block5_out[0][0]']       \n",
            "                                                                                                  \n",
            " conv4_block6_1_bn (BatchNormal  (None, 14, 14, 256)  1024       ['conv4_block6_1_conv[0][0]']    \n",
            " ization)                                                                                         \n",
            "                                                                                                  \n",
            " conv4_block6_1_relu (Activatio  (None, 14, 14, 256)  0          ['conv4_block6_1_bn[0][0]']      \n",
            " n)                                                                                               \n",
            "                                                                                                  \n",
            " conv4_block6_2_conv (Conv2D)   (None, 14, 14, 256)  590080      ['conv4_block6_1_relu[0][0]']    \n",
            "                                                                                                  \n",
            " conv4_block6_2_bn (BatchNormal  (None, 14, 14, 256)  1024       ['conv4_block6_2_conv[0][0]']    \n",
            " ization)                                                                                         \n",
            "                                                                                                  \n",
            " conv4_block6_2_relu (Activatio  (None, 14, 14, 256)  0          ['conv4_block6_2_bn[0][0]']      \n",
            " n)                                                                                               \n",
            "                                                                                                  \n",
            " conv4_block6_3_conv (Conv2D)   (None, 14, 14, 1024  263168      ['conv4_block6_2_relu[0][0]']    \n",
            "                                )                                                                 \n",
            "                                                                                                  \n",
            " conv4_block6_3_bn (BatchNormal  (None, 14, 14, 1024  4096       ['conv4_block6_3_conv[0][0]']    \n",
            " ization)                       )                                                                 \n",
            "                                                                                                  \n",
            " conv4_block6_add (Add)         (None, 14, 14, 1024  0           ['conv4_block5_out[0][0]',       \n",
            "                                )                                 'conv4_block6_3_bn[0][0]']      \n",
            "                                                                                                  \n",
            " conv4_block6_out (Activation)  (None, 14, 14, 1024  0           ['conv4_block6_add[0][0]']       \n",
            "                                )                                                                 \n",
            "                                                                                                  \n",
            " conv5_block1_1_conv (Conv2D)   (None, 7, 7, 512)    524800      ['conv4_block6_out[0][0]']       \n",
            "                                                                                                  \n",
            " conv5_block1_1_bn (BatchNormal  (None, 7, 7, 512)   2048        ['conv5_block1_1_conv[0][0]']    \n",
            " ization)                                                                                         \n",
            "                                                                                                  \n",
            " conv5_block1_1_relu (Activatio  (None, 7, 7, 512)   0           ['conv5_block1_1_bn[0][0]']      \n",
            " n)                                                                                               \n",
            "                                                                                                  \n",
            " conv5_block1_2_conv (Conv2D)   (None, 7, 7, 512)    2359808     ['conv5_block1_1_relu[0][0]']    \n",
            "                                                                                                  \n",
            " conv5_block1_2_bn (BatchNormal  (None, 7, 7, 512)   2048        ['conv5_block1_2_conv[0][0]']    \n",
            " ization)                                                                                         \n",
            "                                                                                                  \n",
            " conv5_block1_2_relu (Activatio  (None, 7, 7, 512)   0           ['conv5_block1_2_bn[0][0]']      \n",
            " n)                                                                                               \n",
            "                                                                                                  \n",
            " conv5_block1_0_conv (Conv2D)   (None, 7, 7, 2048)   2099200     ['conv4_block6_out[0][0]']       \n",
            "                                                                                                  \n",
            " conv5_block1_3_conv (Conv2D)   (None, 7, 7, 2048)   1050624     ['conv5_block1_2_relu[0][0]']    \n",
            "                                                                                                  \n",
            " conv5_block1_0_bn (BatchNormal  (None, 7, 7, 2048)  8192        ['conv5_block1_0_conv[0][0]']    \n",
            " ization)                                                                                         \n",
            "                                                                                                  \n",
            " conv5_block1_3_bn (BatchNormal  (None, 7, 7, 2048)  8192        ['conv5_block1_3_conv[0][0]']    \n",
            " ization)                                                                                         \n",
            "                                                                                                  \n",
            " conv5_block1_add (Add)         (None, 7, 7, 2048)   0           ['conv5_block1_0_bn[0][0]',      \n",
            "                                                                  'conv5_block1_3_bn[0][0]']      \n",
            "                                                                                                  \n",
            " conv5_block1_out (Activation)  (None, 7, 7, 2048)   0           ['conv5_block1_add[0][0]']       \n",
            "                                                                                                  \n",
            " conv5_block2_1_conv (Conv2D)   (None, 7, 7, 512)    1049088     ['conv5_block1_out[0][0]']       \n",
            "                                                                                                  \n",
            " conv5_block2_1_bn (BatchNormal  (None, 7, 7, 512)   2048        ['conv5_block2_1_conv[0][0]']    \n",
            " ization)                                                                                         \n",
            "                                                                                                  \n",
            " conv5_block2_1_relu (Activatio  (None, 7, 7, 512)   0           ['conv5_block2_1_bn[0][0]']      \n",
            " n)                                                                                               \n",
            "                                                                                                  \n",
            " conv5_block2_2_conv (Conv2D)   (None, 7, 7, 512)    2359808     ['conv5_block2_1_relu[0][0]']    \n",
            "                                                                                                  \n",
            " conv5_block2_2_bn (BatchNormal  (None, 7, 7, 512)   2048        ['conv5_block2_2_conv[0][0]']    \n",
            " ization)                                                                                         \n",
            "                                                                                                  \n",
            " conv5_block2_2_relu (Activatio  (None, 7, 7, 512)   0           ['conv5_block2_2_bn[0][0]']      \n",
            " n)                                                                                               \n",
            "                                                                                                  \n",
            " conv5_block2_3_conv (Conv2D)   (None, 7, 7, 2048)   1050624     ['conv5_block2_2_relu[0][0]']    \n",
            "                                                                                                  \n",
            " conv5_block2_3_bn (BatchNormal  (None, 7, 7, 2048)  8192        ['conv5_block2_3_conv[0][0]']    \n",
            " ization)                                                                                         \n",
            "                                                                                                  \n",
            " conv5_block2_add (Add)         (None, 7, 7, 2048)   0           ['conv5_block1_out[0][0]',       \n",
            "                                                                  'conv5_block2_3_bn[0][0]']      \n",
            "                                                                                                  \n",
            " conv5_block2_out (Activation)  (None, 7, 7, 2048)   0           ['conv5_block2_add[0][0]']       \n",
            "                                                                                                  \n",
            " conv5_block3_1_conv (Conv2D)   (None, 7, 7, 512)    1049088     ['conv5_block2_out[0][0]']       \n",
            "                                                                                                  \n",
            " conv5_block3_1_bn (BatchNormal  (None, 7, 7, 512)   2048        ['conv5_block3_1_conv[0][0]']    \n",
            " ization)                                                                                         \n",
            "                                                                                                  \n",
            " conv5_block3_1_relu (Activatio  (None, 7, 7, 512)   0           ['conv5_block3_1_bn[0][0]']      \n",
            " n)                                                                                               \n",
            "                                                                                                  \n",
            " conv5_block3_2_conv (Conv2D)   (None, 7, 7, 512)    2359808     ['conv5_block3_1_relu[0][0]']    \n",
            "                                                                                                  \n",
            " conv5_block3_2_bn (BatchNormal  (None, 7, 7, 512)   2048        ['conv5_block3_2_conv[0][0]']    \n",
            " ization)                                                                                         \n",
            "                                                                                                  \n",
            " conv5_block3_2_relu (Activatio  (None, 7, 7, 512)   0           ['conv5_block3_2_bn[0][0]']      \n",
            " n)                                                                                               \n",
            "                                                                                                  \n",
            " conv5_block3_3_conv (Conv2D)   (None, 7, 7, 2048)   1050624     ['conv5_block3_2_relu[0][0]']    \n",
            "                                                                                                  \n",
            " conv5_block3_3_bn (BatchNormal  (None, 7, 7, 2048)  8192        ['conv5_block3_3_conv[0][0]']    \n",
            " ization)                                                                                         \n",
            "                                                                                                  \n",
            " conv5_block3_add (Add)         (None, 7, 7, 2048)   0           ['conv5_block2_out[0][0]',       \n",
            "                                                                  'conv5_block3_3_bn[0][0]']      \n",
            "                                                                                                  \n",
            " conv5_block3_out (Activation)  (None, 7, 7, 2048)   0           ['conv5_block3_add[0][0]']       \n",
            "                                                                                                  \n",
            " flatten_1 (Flatten)            (None, 100352)       0           ['conv5_block3_out[0][0]']       \n",
            "                                                                                                  \n",
            " dense_1 (Dense)                (None, 6)            602118      ['flatten_1[0][0]']              \n",
            "                                                                                                  \n",
            "==================================================================================================\n",
            "Total params: 24,189,830\n",
            "Trainable params: 602,118\n",
            "Non-trainable params: 23,587,712\n",
            "__________________________________________________________________________________________________\n"
          ]
        }
      ],
      "source": [
        "\n",
        "# view the structure of the model\n",
        "xx=model.summary()\n",
        "xx"
      ]
    },
    {
      "cell_type": "code",
      "execution_count": null,
      "metadata": {
        "id": "Rkp1T5LyyIyK"
      },
      "outputs": [],
      "source": [
        "# tell the model what cost and optimization method to use\n",
        "model.compile(\n",
        "  loss='categorical_crossentropy',\n",
        "  optimizer='adam',\n",
        "  metrics=['accuracy']\n",
        ")\n"
      ]
    },
    {
      "cell_type": "code",
      "execution_count": null,
      "metadata": {
        "id": "rKgxf2qnyIyL"
      },
      "outputs": [],
      "source": [
        "# Use the Image Data Generator to import the images from the dataset\n",
        "from tensorflow.keras.preprocessing.image import ImageDataGenerator\n",
        "\n",
        "train_datagen = ImageDataGenerator(rescale = 1./255,\n",
        "                                   shear_range = 0.2,\n",
        "                                   zoom_range = 0.2,\n",
        "                                   horizontal_flip = True)\n",
        "\n",
        "test_datagen = ImageDataGenerator(rescale = 1./255)"
      ]
    },
    {
      "cell_type": "code",
      "execution_count": null,
      "metadata": {
        "colab": {
          "base_uri": "https://localhost:8080/"
        },
        "id": "tp5-zYvmyIyL",
        "outputId": "dad7873a-130e-4db0-b909-541239a260c0"
      },
      "outputs": [
        {
          "output_type": "stream",
          "name": "stdout",
          "text": [
            "Found 1200 images belonging to 6 classes.\n"
          ]
        }
      ],
      "source": [
        "# Make sure you provide the same target size as initialied for the image size\n",
        "training_set = train_datagen.flow_from_directory('/content/drive/MyDrive/dataset/train',\n",
        "                                                 target_size = (224, 224),\n",
        "                                                 batch_size = 10,\n",
        "                                                 class_mode = 'categorical')"
      ]
    },
    {
      "cell_type": "code",
      "execution_count": null,
      "metadata": {
        "colab": {
          "base_uri": "https://localhost:8080/"
        },
        "id": "DvYL1VQwyIyM",
        "outputId": "c3552c24-ce16-47eb-ba9b-6d6c983f8305"
      },
      "outputs": [
        {
          "output_type": "stream",
          "name": "stdout",
          "text": [
            "Found 100 images belonging to 6 classes.\n"
          ]
        }
      ],
      "source": [
        "test_set = test_datagen.flow_from_directory('/content/drive/MyDrive/dataset/test',\n",
        "                                            target_size = (224, 224),\n",
        "                                            batch_size = 10,\n",
        "                                            class_mode = 'categorical')"
      ]
    },
    {
      "cell_type": "code",
      "execution_count": null,
      "metadata": {
        "colab": {
          "base_uri": "https://localhost:8080/"
        },
        "id": "Z_qI5wm2yIyM",
        "outputId": "077c625c-5dd8-4b4e-a82e-e4f043525c70",
        "scrolled": true
      },
      "outputs": [
        {
          "output_type": "stream",
          "name": "stdout",
          "text": [
            "Epoch 1/50\n",
            "120/120 [==============================] - 27s 193ms/step - loss: 3.4436 - accuracy: 0.3475 - val_loss: 3.2824 - val_accuracy: 0.4500\n",
            "Epoch 2/50\n",
            "120/120 [==============================] - 22s 180ms/step - loss: 2.3627 - accuracy: 0.4167 - val_loss: 2.5363 - val_accuracy: 0.4800\n",
            "Epoch 3/50\n",
            "120/120 [==============================] - 22s 184ms/step - loss: 2.0334 - accuracy: 0.4642 - val_loss: 0.8533 - val_accuracy: 0.6800\n",
            "Epoch 4/50\n",
            "120/120 [==============================] - 22s 179ms/step - loss: 1.9197 - accuracy: 0.4883 - val_loss: 1.1851 - val_accuracy: 0.5900\n",
            "Epoch 5/50\n",
            "120/120 [==============================] - 22s 181ms/step - loss: 2.3731 - accuracy: 0.4775 - val_loss: 1.8288 - val_accuracy: 0.6200\n",
            "Epoch 6/50\n",
            "120/120 [==============================] - 22s 179ms/step - loss: 2.3601 - accuracy: 0.5058 - val_loss: 3.0728 - val_accuracy: 0.3900\n",
            "Epoch 7/50\n",
            "120/120 [==============================] - 22s 184ms/step - loss: 1.7821 - accuracy: 0.5417 - val_loss: 3.7033 - val_accuracy: 0.4600\n",
            "Epoch 8/50\n",
            "120/120 [==============================] - 22s 180ms/step - loss: 1.9458 - accuracy: 0.5333 - val_loss: 1.2084 - val_accuracy: 0.6500\n",
            "Epoch 9/50\n",
            "120/120 [==============================] - 22s 181ms/step - loss: 1.9415 - accuracy: 0.5567 - val_loss: 1.0991 - val_accuracy: 0.6500\n",
            "Epoch 10/50\n",
            "120/120 [==============================] - 22s 185ms/step - loss: 2.2596 - accuracy: 0.5383 - val_loss: 1.1419 - val_accuracy: 0.6400\n",
            "Epoch 11/50\n",
            "120/120 [==============================] - 22s 179ms/step - loss: 2.0690 - accuracy: 0.5633 - val_loss: 2.1447 - val_accuracy: 0.6000\n",
            "Epoch 12/50\n",
            "120/120 [==============================] - 23s 188ms/step - loss: 1.7004 - accuracy: 0.6017 - val_loss: 1.2166 - val_accuracy: 0.6900\n",
            "Epoch 13/50\n",
            "120/120 [==============================] - 22s 182ms/step - loss: 1.4230 - accuracy: 0.6167 - val_loss: 1.0182 - val_accuracy: 0.7000\n",
            "Epoch 14/50\n",
            "120/120 [==============================] - 22s 186ms/step - loss: 2.3636 - accuracy: 0.5583 - val_loss: 5.3140 - val_accuracy: 0.4700\n",
            "Epoch 15/50\n",
            "120/120 [==============================] - 22s 186ms/step - loss: 2.3729 - accuracy: 0.5708 - val_loss: 1.8851 - val_accuracy: 0.6300\n",
            "Epoch 16/50\n",
            "120/120 [==============================] - 22s 179ms/step - loss: 1.4644 - accuracy: 0.6375 - val_loss: 2.4650 - val_accuracy: 0.6100\n",
            "Epoch 17/50\n",
            "120/120 [==============================] - 22s 187ms/step - loss: 1.7942 - accuracy: 0.6058 - val_loss: 0.8440 - val_accuracy: 0.7300\n",
            "Epoch 18/50\n",
            "120/120 [==============================] - 21s 179ms/step - loss: 1.8855 - accuracy: 0.5858 - val_loss: 2.6465 - val_accuracy: 0.6000\n",
            "Epoch 19/50\n",
            "120/120 [==============================] - 22s 183ms/step - loss: 1.7232 - accuracy: 0.5950 - val_loss: 1.1552 - val_accuracy: 0.7400\n",
            "Epoch 20/50\n",
            "120/120 [==============================] - 21s 178ms/step - loss: 1.7410 - accuracy: 0.6125 - val_loss: 0.9624 - val_accuracy: 0.7800\n",
            "Epoch 21/50\n",
            "120/120 [==============================] - 22s 184ms/step - loss: 1.2662 - accuracy: 0.6750 - val_loss: 0.6258 - val_accuracy: 0.7800\n",
            "Epoch 22/50\n",
            "120/120 [==============================] - 22s 186ms/step - loss: 1.6563 - accuracy: 0.6275 - val_loss: 0.8263 - val_accuracy: 0.7100\n",
            "Epoch 23/50\n",
            "120/120 [==============================] - 22s 186ms/step - loss: 1.7128 - accuracy: 0.6225 - val_loss: 0.8863 - val_accuracy: 0.6900\n",
            "Epoch 24/50\n",
            "120/120 [==============================] - 22s 179ms/step - loss: 1.4705 - accuracy: 0.6383 - val_loss: 1.7606 - val_accuracy: 0.7200\n",
            "Epoch 25/50\n",
            "120/120 [==============================] - 22s 183ms/step - loss: 1.3778 - accuracy: 0.6767 - val_loss: 1.4475 - val_accuracy: 0.7200\n",
            "Epoch 26/50\n",
            "120/120 [==============================] - 22s 182ms/step - loss: 1.5396 - accuracy: 0.6292 - val_loss: 0.5924 - val_accuracy: 0.8200\n",
            "Epoch 27/50\n",
            "120/120 [==============================] - 21s 178ms/step - loss: 1.8779 - accuracy: 0.6317 - val_loss: 1.3926 - val_accuracy: 0.7000\n",
            "Epoch 28/50\n",
            "120/120 [==============================] - 23s 188ms/step - loss: 1.5914 - accuracy: 0.6517 - val_loss: 0.9097 - val_accuracy: 0.7600\n",
            "Epoch 29/50\n",
            "120/120 [==============================] - 22s 185ms/step - loss: 1.8153 - accuracy: 0.6417 - val_loss: 0.4088 - val_accuracy: 0.8500\n",
            "Epoch 30/50\n",
            "120/120 [==============================] - 22s 179ms/step - loss: 1.3057 - accuracy: 0.6867 - val_loss: 1.6915 - val_accuracy: 0.6900\n",
            "Epoch 31/50\n",
            "120/120 [==============================] - 22s 187ms/step - loss: 1.5019 - accuracy: 0.6567 - val_loss: 1.3108 - val_accuracy: 0.7300\n",
            "Epoch 32/50\n",
            "120/120 [==============================] - 21s 178ms/step - loss: 1.3374 - accuracy: 0.6800 - val_loss: 1.2218 - val_accuracy: 0.7200\n",
            "Epoch 33/50\n",
            "120/120 [==============================] - 22s 184ms/step - loss: 1.9061 - accuracy: 0.6308 - val_loss: 2.2809 - val_accuracy: 0.6900\n",
            "Epoch 34/50\n",
            "120/120 [==============================] - 21s 177ms/step - loss: 2.0091 - accuracy: 0.6375 - val_loss: 1.0684 - val_accuracy: 0.7200\n",
            "Epoch 35/50\n",
            "120/120 [==============================] - 22s 185ms/step - loss: 2.0736 - accuracy: 0.6083 - val_loss: 1.9929 - val_accuracy: 0.6100\n",
            "Epoch 36/50\n",
            "120/120 [==============================] - 22s 179ms/step - loss: 1.7460 - accuracy: 0.6758 - val_loss: 1.5730 - val_accuracy: 0.7100\n",
            "Epoch 37/50\n",
            "120/120 [==============================] - 22s 185ms/step - loss: 1.7531 - accuracy: 0.6708 - val_loss: 1.9390 - val_accuracy: 0.6200\n",
            "Epoch 38/50\n",
            "120/120 [==============================] - 21s 173ms/step - loss: 1.2589 - accuracy: 0.6892 - val_loss: 0.4443 - val_accuracy: 0.8500\n",
            "Epoch 39/50\n",
            "120/120 [==============================] - 22s 184ms/step - loss: 1.3971 - accuracy: 0.6892 - val_loss: 0.9762 - val_accuracy: 0.7600\n",
            "Epoch 40/50\n",
            "120/120 [==============================] - 21s 173ms/step - loss: 1.2886 - accuracy: 0.7025 - val_loss: 1.3747 - val_accuracy: 0.7100\n",
            "Epoch 41/50\n",
            "120/120 [==============================] - 22s 182ms/step - loss: 1.4518 - accuracy: 0.6900 - val_loss: 2.4786 - val_accuracy: 0.7000\n",
            "Epoch 42/50\n",
            "120/120 [==============================] - 22s 180ms/step - loss: 1.3936 - accuracy: 0.7050 - val_loss: 1.5964 - val_accuracy: 0.7000\n",
            "Epoch 43/50\n",
            "120/120 [==============================] - 23s 192ms/step - loss: 1.8455 - accuracy: 0.6608 - val_loss: 0.9421 - val_accuracy: 0.8000\n",
            "Epoch 44/50\n",
            "120/120 [==============================] - 21s 175ms/step - loss: 1.8345 - accuracy: 0.6483 - val_loss: 1.2584 - val_accuracy: 0.7700\n",
            "Epoch 45/50\n",
            "120/120 [==============================] - 22s 184ms/step - loss: 1.1508 - accuracy: 0.7325 - val_loss: 0.5488 - val_accuracy: 0.8500\n",
            "Epoch 46/50\n",
            "120/120 [==============================] - 22s 182ms/step - loss: 1.4372 - accuracy: 0.6917 - val_loss: 2.2798 - val_accuracy: 0.6500\n",
            "Epoch 47/50\n",
            "120/120 [==============================] - 21s 174ms/step - loss: 1.2249 - accuracy: 0.7217 - val_loss: 0.5060 - val_accuracy: 0.8400\n",
            "Epoch 48/50\n",
            "120/120 [==============================] - 22s 184ms/step - loss: 1.5291 - accuracy: 0.6833 - val_loss: 0.4549 - val_accuracy: 0.8700\n",
            "Epoch 49/50\n",
            "120/120 [==============================] - 22s 186ms/step - loss: 1.0256 - accuracy: 0.7392 - val_loss: 0.7527 - val_accuracy: 0.7900\n",
            "Epoch 50/50\n",
            "120/120 [==============================] - 22s 187ms/step - loss: 1.4282 - accuracy: 0.6942 - val_loss: 2.6271 - val_accuracy: 0.6100\n"
          ]
        }
      ],
      "source": [
        "# fit the model\n",
        "# Run the cell. It will take some time to execute\n",
        "r = model.fit(\n",
        "  training_set,\n",
        "  validation_data=test_set,\n",
        "  epochs=50,\n",
        "  steps_per_epoch=len(training_set),\n",
        "  validation_steps=len(test_set)\n",
        ")"
      ]
    },
    {
      "cell_type": "code",
      "execution_count": null,
      "metadata": {
        "id": "AjMoK2kfyIyN"
      },
      "outputs": [],
      "source": []
    },
    {
      "cell_type": "code",
      "execution_count": null,
      "metadata": {
        "colab": {
          "base_uri": "https://localhost:8080/",
          "height": 860
        },
        "id": "TISrECG6yIyN",
        "outputId": "c25519ff-570f-44e2-fe8a-4afe2c78fe27"
      },
      "outputs": [
        {
          "output_type": "display_data",
          "data": {
            "text/plain": [
              "<Figure size 640x480 with 1 Axes>"
            ],
            "image/png": "[encoded data removed]"
          },
          "metadata": {}
        },
        {
          "output_type": "display_data",
          "data": {
            "text/plain": [
              "<Figure size 640x480 with 1 Axes>"
            ],
            "image/png": "[encoded data removed]"
          },
          "metadata": {}
        },
        {
          "output_type": "display_data",
          "data": {
            "text/plain": [
              "<Figure size 640x480 with 0 Axes>"
            ]
          },
          "metadata": {}
        }
      ],
      "source": [
        "# plot the loss\n",
        "\n",
        "import matplotlib.pyplot as plt\n",
        "\n",
        "plt.plot(r.history['loss'], label='train loss')\n",
        "plt.plot(r.history['val_loss'], label='val loss')\n",
        "plt.legend()\n",
        "plt.show()\n",
        "plt.savefig('LossVal_loss')\n",
        "\n",
        "# plot the accuracy\n",
        "plt.plot(r.history['accuracy'], label='train acc')\n",
        "plt.plot(r.history['val_accuracy'], label='val acc')\n",
        "plt.legend()\n",
        "plt.show()\n",
        "plt.savefig('AccVal_acc')"
      ]
    },
    {
      "cell_type": "code",
      "execution_count": null,
      "metadata": {
        "id": "nscGVs1hyIyO"
      },
      "outputs": [],
      "source": [
        "# save it as a h5 file\n",
        "\n",
        "\n",
        "from tensorflow.keras.models import load_model\n",
        "\n",
        "model.save('fruitresnet50.h5')"
      ]
    },
    {
      "cell_type": "markdown",
      "source": [
        "# New Section"
      ],
      "metadata": {
        "id": "dW9JDVW6vIsO"
      }
    },
    {
      "cell_type": "code",
      "execution_count": null,
      "metadata": {
        "id": "aj_hrT5DyIyO",
        "colab": {
          "base_uri": "https://localhost:8080/"
        },
        "outputId": "aa312262-c6fc-4684-be4f-8b4a6f03919d"
      },
      "outputs": [
        {
          "output_type": "stream",
          "name": "stdout",
          "text": [
            "10/10 [==============================] - 2s 67ms/step\n"
          ]
        }
      ],
      "source": [
        "\n",
        "y_pred = model.predict(test_set)\n"
      ]
    },
    {
      "cell_type": "code",
      "execution_count": null,
      "metadata": {
        "colab": {
          "base_uri": "https://localhost:8080/"
        },
        "id": "_3_CoS6-yIyP",
        "outputId": "db74b035-bf29-4371-c2ee-1260ec0e8c0e"
      },
      "outputs": [
        {
          "output_type": "execute_result",
          "data": {
            "text/plain": [
              "array([[1.39120151e-04, 9.55559969e-01, 4.36642495e-06, 5.02606039e-04,\n",
              "        7.40164041e-11, 4.37938720e-02],\n",
              "       [1.40646060e-29, 0.00000000e+00, 1.55655230e-32, 0.00000000e+00,\n",
              "        0.00000000e+00, 1.00000000e+00],\n",
              "       [7.73273885e-01, 6.50134460e-12, 1.87963578e-09, 2.26726100e-01,\n",
              "        1.56413578e-13, 1.30677856e-11],\n",
              "       [1.15531066e-11, 2.33900421e-12, 9.20674214e-12, 4.18159851e-17,\n",
              "        1.17487947e-18, 1.00000000e+00],\n",
              "       [9.99963164e-01, 1.08905398e-15, 1.31494812e-06, 3.55522388e-05,\n",
              "        8.11623880e-13, 3.12639762e-17],\n",
              "       [4.05118783e-08, 9.99998808e-01, 1.13883561e-06, 5.13382540e-16,\n",
              "        7.43888390e-14, 1.13733765e-10],\n",
              "       [9.55590248e-01, 2.69596603e-06, 2.80943357e-08, 6.31275589e-06,\n",
              "        2.46321099e-15, 4.44006696e-02],\n",
              "       [8.79506290e-01, 1.24915065e-08, 3.10819015e-09, 6.21517822e-02,\n",
              "        1.22579920e-07, 5.83418347e-02],\n",
              "       [9.85510826e-01, 6.87685908e-10, 1.44891655e-02, 4.04749485e-22,\n",
              "        4.30813642e-13, 6.63292029e-20],\n",
              "       [6.11498989e-02, 2.28449792e-07, 8.94440222e-04, 9.37955499e-01,\n",
              "        4.21278035e-09, 1.19286647e-11],\n",
              "       [1.96419701e-01, 4.66656275e-02, 8.24007948e-05, 7.34249294e-01,\n",
              "        2.25507803e-02, 3.21992047e-05],\n",
              "       [9.99946833e-01, 1.63392758e-10, 1.99977399e-06, 5.11837970e-05,\n",
              "        1.42025942e-12, 3.45061264e-16],\n",
              "       [1.82490482e-03, 9.98056591e-01, 2.74132017e-05, 8.44793612e-05,\n",
              "        2.20764607e-09, 6.60477326e-06],\n",
              "       [2.47353036e-03, 9.97525156e-01, 7.44067620e-07, 5.17512603e-07,\n",
              "        4.59344531e-13, 2.63670336e-12],\n",
              "       [9.98076081e-01, 9.06869198e-13, 1.47783021e-06, 1.92246726e-03,\n",
              "        2.85461821e-10, 1.10490542e-13],\n",
              "       [9.48402405e-01, 1.00647153e-08, 3.22256778e-06, 5.15943170e-02,\n",
              "        3.85856751e-08, 7.32552186e-10],\n",
              "       [6.38922909e-03, 9.93610799e-01, 2.55207198e-08, 9.62104605e-23,\n",
              "        1.09051121e-14, 8.53861145e-16],\n",
              "       [4.88316655e-01, 1.54419368e-07, 4.95089710e-01, 1.65935140e-02,\n",
              "        3.36964279e-09, 5.98299893e-14],\n",
              "       [5.40817454e-02, 5.83591373e-06, 1.86792079e-06, 2.19352156e-01,\n",
              "        2.30435768e-10, 7.26558387e-01],\n",
              "       [9.98274803e-01, 2.29291231e-06, 1.72297086e-03, 2.23773656e-19,\n",
              "        9.81397851e-14, 3.53447555e-19],\n",
              "       [5.80634499e-11, 1.00000000e+00, 1.54691604e-09, 5.37284769e-23,\n",
              "        3.36127453e-19, 4.92331657e-23],\n",
              "       [1.08781578e-14, 1.00000000e+00, 1.23566513e-14, 3.94755187e-24,\n",
              "        5.94141516e-24, 1.82057397e-22],\n",
              "       [3.43716365e-21, 1.00000000e+00, 5.01169112e-17, 1.04917610e-28,\n",
              "        5.66595509e-35, 3.18345437e-22],\n",
              "       [8.66169092e-09, 1.00000000e+00, 2.86223045e-08, 9.70099489e-22,\n",
              "        1.67621785e-16, 3.06226683e-16],\n",
              "       [2.09404490e-04, 9.99784648e-01, 5.74808109e-06, 2.40468722e-07,\n",
              "        1.31065636e-13, 8.18359130e-11],\n",
              "       [1.88169181e-01, 7.91094661e-01, 7.84136887e-07, 2.07353886e-02,\n",
              "        2.44843121e-12, 1.82247880e-12],\n",
              "       [9.93033648e-01, 2.70507176e-11, 3.16937658e-05, 6.93444209e-03,\n",
              "        2.11367137e-07, 3.30752488e-13],\n",
              "       [9.87062633e-01, 2.27087116e-11, 1.24865919e-02, 4.50786523e-04,\n",
              "        3.79733831e-12, 2.49997059e-18],\n",
              "       [2.33469938e-34, 4.92971019e-29, 6.72144378e-32, 0.00000000e+00,\n",
              "        0.00000000e+00, 1.00000000e+00],\n",
              "       [1.47981182e-01, 2.14434337e-08, 2.66967545e-05, 8.51992071e-01,\n",
              "        1.50197368e-10, 6.63593854e-13],\n",
              "       [4.82309945e-02, 1.18987856e-07, 9.51743782e-01, 2.50277426e-05,\n",
              "        2.20485725e-15, 4.05596102e-13],\n",
              "       [9.99041498e-01, 8.43580230e-04, 2.49277055e-05, 8.99918377e-05,\n",
              "        2.39388648e-10, 3.01013575e-10],\n",
              "       [3.72296162e-02, 8.20602236e-06, 9.62762117e-01, 8.36165117e-17,\n",
              "        7.45057419e-11, 8.78804677e-16],\n",
              "       [8.77744079e-01, 2.22906692e-05, 7.49123245e-02, 4.73176725e-02,\n",
              "        3.62333822e-06, 3.28035682e-10],\n",
              "       [1.00000000e+00, 9.76368840e-32, 3.67555888e-21, 4.71736094e-13,\n",
              "        3.32117423e-28, 7.72528854e-21],\n",
              "       [9.99759972e-01, 1.08312095e-13, 2.40065143e-04, 6.68679776e-23,\n",
              "        1.58169988e-15, 8.40785270e-22],\n",
              "       [1.05817229e-01, 1.43645503e-11, 7.68775400e-03, 8.86494637e-01,\n",
              "        2.88116496e-07, 4.28589076e-13],\n",
              "       [9.99994397e-01, 4.33702634e-13, 5.54571216e-06, 6.28263143e-24,\n",
              "        2.47567808e-13, 1.92251007e-22],\n",
              "       [1.00000000e+00, 3.15028924e-17, 1.30090072e-09, 2.48959492e-24,\n",
              "        1.34965700e-15, 4.93951630e-22],\n",
              "       [9.99999523e-01, 7.00675480e-14, 4.97060341e-07, 2.94250570e-22,\n",
              "        1.24611570e-15, 3.63550600e-22],\n",
              "       [5.49364805e-01, 1.24327319e-11, 4.46095765e-01, 4.53947252e-03,\n",
              "        1.02443295e-13, 7.84003968e-17],\n",
              "       [4.71078419e-11, 2.19930185e-10, 9.82926154e-12, 8.76542172e-11,\n",
              "        1.88469047e-20, 1.00000000e+00],\n",
              "       [9.99998569e-01, 6.79924519e-11, 1.38214466e-06, 1.36767572e-15,\n",
              "        2.54064391e-11, 4.10422276e-15],\n",
              "       [8.73898804e-01, 5.20163724e-07, 1.24453463e-01, 1.64720183e-03,\n",
              "        1.30966893e-09, 4.63477083e-14],\n",
              "       [3.22036259e-02, 9.12746998e-08, 9.67796326e-01, 1.94050830e-13,\n",
              "        8.35644748e-12, 1.41485659e-13],\n",
              "       [3.77581000e-01, 2.88615187e-10, 5.67841907e-09, 6.22418940e-01,\n",
              "        9.86195674e-12, 6.09822006e-15],\n",
              "       [3.90912504e-07, 9.99999642e-01, 4.55979681e-08, 2.75148852e-22,\n",
              "        1.23089961e-13, 4.82370440e-17],\n",
              "       [8.82709628e-06, 9.99989867e-01, 1.25687370e-06, 2.88731766e-13,\n",
              "        2.98053981e-13, 3.90590245e-08],\n",
              "       [4.28850601e-11, 9.99999881e-01, 8.92969795e-11, 6.46116055e-14,\n",
              "        1.15275799e-17, 1.55831131e-07],\n",
              "       [3.05528824e-09, 7.09230064e-10, 1.21625057e-10, 2.04392018e-13,\n",
              "        1.45303673e-18, 1.00000000e+00],\n",
              "       [9.99993086e-01, 2.43889761e-13, 1.89040622e-06, 4.97351357e-06,\n",
              "        1.04068902e-12, 6.81194319e-18],\n",
              "       [9.73218262e-01, 1.17023534e-04, 2.57018954e-02, 8.23846087e-04,\n",
              "        1.38873365e-04, 1.14625273e-07],\n",
              "       [9.99489069e-01, 1.07449814e-15, 1.61903757e-09, 5.10943180e-04,\n",
              "        1.04087440e-13, 8.72517985e-17],\n",
              "       [9.77724493e-01, 4.11467277e-10, 2.22755279e-02, 3.45553925e-20,\n",
              "        6.15244633e-10, 1.06303845e-18],\n",
              "       [2.18303420e-08, 4.50769110e-11, 1.41343603e-11, 1.20447916e-10,\n",
              "        6.98840708e-10, 1.00000000e+00],\n",
              "       [9.51300979e-01, 3.36877548e-09, 1.78891707e-10, 4.86990102e-02,\n",
              "        4.39212799e-09, 3.49581235e-08],\n",
              "       [2.06460652e-04, 4.00402711e-10, 4.41555820e-10, 9.99793589e-01,\n",
              "        5.05486169e-13, 1.31983790e-12],\n",
              "       [9.99169588e-01, 1.87728510e-05, 7.10019260e-04, 1.01620382e-04,\n",
              "        2.42684466e-11, 1.41364212e-11],\n",
              "       [8.61233559e-07, 9.99998927e-01, 2.74900032e-07, 9.42125800e-22,\n",
              "        3.21074271e-16, 3.85435914e-21],\n",
              "       [7.71752238e-01, 7.74121531e-08, 6.85235299e-03, 2.21379116e-01,\n",
              "        3.34956121e-06, 1.27998092e-05],\n",
              "       [1.55637898e-11, 4.53086944e-15, 2.61067424e-18, 1.38029312e-23,\n",
              "        1.85205793e-25, 1.00000000e+00],\n",
              "       [3.54727762e-18, 2.18531485e-10, 5.27241757e-11, 9.85565145e-13,\n",
              "        3.67429123e-13, 1.00000000e+00],\n",
              "       [6.29171550e-01, 5.35623826e-07, 3.70764375e-01, 6.35050237e-05,\n",
              "        6.93307101e-08, 1.28981827e-13],\n",
              "       [1.24349191e-15, 5.12742808e-05, 9.99944091e-01, 1.42163364e-10,\n",
              "        1.49898320e-14, 4.64002915e-06],\n",
              "       [1.29171682e-11, 3.59168112e-01, 6.40831888e-01, 5.34119283e-16,\n",
              "        4.10416447e-16, 7.22321682e-12],\n",
              "       [9.77804244e-01, 6.15208712e-15, 6.00518968e-10, 2.21957657e-02,\n",
              "        1.44632483e-12, 5.71541173e-14],\n",
              "       [6.77055742e-13, 7.63050595e-11, 1.68718530e-19, 1.11596991e-19,\n",
              "        1.78548768e-25, 1.00000000e+00],\n",
              "       [1.00000000e+00, 4.80952401e-16, 6.90415780e-10, 1.61723709e-25,\n",
              "        8.77952959e-18, 1.22145587e-21],\n",
              "       [9.93414521e-01, 3.88382089e-14, 3.31850697e-06, 6.58215024e-03,\n",
              "        7.36683631e-11, 3.41426508e-15],\n",
              "       [1.32874933e-20, 2.12664816e-15, 5.34130237e-28, 1.80526485e-27,\n",
              "        3.53643710e-28, 1.00000000e+00],\n",
              "       [1.95672729e-13, 1.00000000e+00, 1.03528880e-13, 7.25949642e-24,\n",
              "        3.25320778e-23, 5.84478026e-22],\n",
              "       [1.00000000e+00, 5.27556442e-23, 1.16642696e-09, 2.76075095e-23,\n",
              "        5.67022318e-17, 1.36528300e-18],\n",
              "       [5.99116802e-01, 5.30199040e-09, 2.52591330e-03, 3.98344547e-01,\n",
              "        1.27188696e-05, 1.29536681e-09],\n",
              "       [1.00000000e+00, 5.51698367e-17, 1.46176016e-10, 1.22864316e-10,\n",
              "        3.38686181e-19, 3.11313593e-17],\n",
              "       [1.00000000e+00, 1.64429407e-14, 2.45097875e-09, 2.08750640e-21,\n",
              "        7.92651806e-14, 8.81300907e-20],\n",
              "       [2.85100132e-01, 2.35901271e-10, 7.14899898e-01, 4.88981480e-16,\n",
              "        6.49289563e-12, 3.46644236e-14],\n",
              "       [3.62000078e-01, 6.05690064e-12, 2.50680387e-06, 6.37951016e-01,\n",
              "        4.63604738e-05, 1.64868640e-11],\n",
              "       [1.00000000e+00, 7.47977541e-31, 1.42121944e-18, 1.17430064e-27,\n",
              "        1.07715960e-26, 2.46112161e-27],\n",
              "       [7.11543123e-07, 9.99998689e-01, 6.49722381e-07, 2.67119145e-13,\n",
              "        4.65071232e-15, 5.14598986e-09],\n",
              "       [1.43613900e-36, 0.00000000e+00, 5.73891380e-35, 0.00000000e+00,\n",
              "        0.00000000e+00, 1.00000000e+00],\n",
              "       [9.99665022e-01, 2.13277221e-14, 3.63783414e-07, 3.34593788e-04,\n",
              "        4.40860956e-15, 6.67827369e-19],\n",
              "       [9.97557759e-01, 2.39596695e-15, 1.09684572e-06, 2.44114222e-03,\n",
              "        1.56150287e-14, 2.58803803e-17],\n",
              "       [7.57807851e-01, 1.93023878e-11, 3.01225168e-06, 2.42189154e-01,\n",
              "        5.57096513e-12, 1.41338520e-13],\n",
              "       [4.87824438e-30, 1.11010463e-22, 1.27715604e-24, 1.28029842e-30,\n",
              "        2.92043645e-27, 1.00000000e+00],\n",
              "       [9.99983191e-01, 3.57684023e-14, 1.67986709e-05, 1.47091105e-22,\n",
              "        1.30830958e-12, 1.69612593e-20],\n",
              "       [1.25293741e-02, 1.33459714e-08, 6.78624247e-07, 1.49952495e-10,\n",
              "        4.50279619e-10, 9.87469912e-01],\n",
              "       [9.36985697e-11, 1.10269070e-01, 1.47819081e-13, 2.10293154e-11,\n",
              "        4.42636257e-18, 8.89730871e-01],\n",
              "       [9.36503649e-01, 2.79679561e-11, 3.61879036e-04, 6.31344989e-02,\n",
              "        3.60424496e-10, 1.53515208e-13],\n",
              "       [6.99934959e-02, 3.82310636e-02, 1.82433089e-03, 1.42280802e-01,\n",
              "        2.94573326e-03, 7.44724572e-01],\n",
              "       [9.92956161e-01, 5.23848449e-08, 7.04376632e-03, 3.92189953e-17,\n",
              "        1.48307880e-13, 4.34262304e-16],\n",
              "       [9.08631146e-01, 5.15282761e-10, 2.72831967e-05, 9.13416147e-02,\n",
              "        1.98654004e-09, 7.18179043e-13],\n",
              "       [5.05935371e-01, 1.88893978e-07, 4.69016343e-01, 2.50480641e-02,\n",
              "        9.83193971e-10, 2.85350330e-13],\n",
              "       [9.99663830e-01, 2.50572429e-09, 2.06893965e-05, 3.05526541e-04,\n",
              "        2.57176528e-12, 9.99007443e-06],\n",
              "       [2.90792492e-08, 9.99988556e-01, 9.59002864e-06, 2.60440876e-17,\n",
              "        3.72595352e-15, 1.87932676e-06],\n",
              "       [1.00000000e+00, 4.46583034e-17, 7.38999411e-13, 4.51371616e-25,\n",
              "        2.53903348e-19, 6.97547642e-25],\n",
              "       [7.50876248e-01, 8.92242014e-09, 6.91769492e-06, 2.49116763e-01,\n",
              "        2.08043150e-13, 1.48195761e-11],\n",
              "       [3.39866642e-11, 1.94592831e-11, 2.13735740e-13, 7.33022922e-14,\n",
              "        1.85170956e-20, 1.00000000e+00],\n",
              "       [6.69011891e-01, 6.01053287e-08, 6.51638475e-05, 3.30922872e-01,\n",
              "        3.42375406e-10, 2.62096687e-13],\n",
              "       [1.00000000e+00, 6.92137546e-18, 9.78506512e-11, 8.49720831e-27,\n",
              "        9.08465002e-20, 9.31543755e-25],\n",
              "       [9.99530315e-01, 5.60764109e-11, 2.37813591e-08, 4.69632301e-04,\n",
              "        2.29962382e-12, 3.99499010e-12]], dtype=float32)"
            ]
          },
          "metadata": {},
          "execution_count": 73
        }
      ],
      "source": [
        "y_pred"
      ]
    },
    {
      "cell_type": "code",
      "execution_count": null,
      "metadata": {
        "id": "qd5qxeviyIyP"
      },
      "outputs": [],
      "source": [
        "import numpy as np\n",
        "y_pred = np.argmax(y_pred, axis=1)"
      ]
    },
    {
      "cell_type": "code",
      "execution_count": null,
      "metadata": {
        "id": "oeowKzR8yIyQ"
      },
      "outputs": [],
      "source": [
        "y_true=test_set.classes"
      ]
    },
    {
      "cell_type": "code",
      "execution_count": null,
      "metadata": {
        "id": "7uRu1C-WyIyQ"
      },
      "outputs": [],
      "source": [
        "from sklearn.metrics import confusion_matrix"
      ]
    },
    {
      "cell_type": "code",
      "execution_count": null,
      "metadata": {
        "id": "nNCsco8-Csvi",
        "colab": {
          "base_uri": "https://localhost:8080/"
        },
        "outputId": "c5500e3e-7584-4d11-ba57-a7ad420f5280"
      },
      "outputs": [
        {
          "output_type": "execute_result",
          "data": {
            "text/plain": [
              "array([[ 9,  5,  1,  2,  0,  3],\n",
              "       [ 9,  6,  2,  2,  0,  1],\n",
              "       [10,  4,  1,  2,  0,  3],\n",
              "       [ 4,  0,  2,  0,  0,  4],\n",
              "       [ 5,  2,  1,  1,  0,  1],\n",
              "       [14,  1,  0,  0,  0,  5]])"
            ]
          },
          "metadata": {},
          "execution_count": 77
        }
      ],
      "source": [
        "cm=confusion_matrix(y_true,y_pred)\n",
        "cm"
      ]
    },
    {
      "cell_type": "code",
      "source": [
        "from sklearn.metrics import classification_report\n",
        "cr=classification_report(y_true,y_pred)\n",
        "print(cr)"
      ],
      "metadata": {
        "colab": {
          "base_uri": "https://localhost:8080/"
        },
        "id": "mGFErBSCdtp-",
        "outputId": "ef5ce182-045c-4c72-b12a-16cdec29854e"
      },
      "execution_count": null,
      "outputs": [
        {
          "output_type": "stream",
          "name": "stdout",
          "text": [
            "              precision    recall  f1-score   support\n",
            "\n",
            "           0       0.18      0.45      0.25        20\n",
            "           1       0.33      0.30      0.32        20\n",
            "           2       0.14      0.05      0.07        20\n",
            "           3       0.00      0.00      0.00        10\n",
            "           4       0.00      0.00      0.00        10\n",
            "           5       0.29      0.25      0.27        20\n",
            "\n",
            "    accuracy                           0.21       100\n",
            "   macro avg       0.16      0.18      0.15       100\n",
            "weighted avg       0.19      0.21      0.18       100\n",
            "\n"
          ]
        },
        {
          "output_type": "stream",
          "name": "stderr",
          "text": [
            "/usr/local/lib/python3.10/dist-packages/sklearn/metrics/_classification.py:1344: UndefinedMetricWarning: Precision and F-score are ill-defined and being set to 0.0 in labels with no predicted samples. Use `zero_division` parameter to control this behavior.\n",
            "  _warn_prf(average, modifier, msg_start, len(result))\n",
            "/usr/local/lib/python3.10/dist-packages/sklearn/metrics/_classification.py:1344: UndefinedMetricWarning: Precision and F-score are ill-defined and being set to 0.0 in labels with no predicted samples. Use `zero_division` parameter to control this behavior.\n",
            "  _warn_prf(average, modifier, msg_start, len(result))\n",
            "/usr/local/lib/python3.10/dist-packages/sklearn/metrics/_classification.py:1344: UndefinedMetricWarning: Precision and F-score are ill-defined and being set to 0.0 in labels with no predicted samples. Use `zero_division` parameter to control this behavior.\n",
            "  _warn_prf(average, modifier, msg_start, len(result))\n"
          ]
        }
      ]
    },
    {
      "cell_type": "code",
      "source": [
        "\n",
        "from sklearn import metrics\n",
        "cm_display = metrics.ConfusionMatrixDisplay(confusion_matrix = cm, display_labels = ['Rotap','Rotban','Rotorn','Freap','Freban','Freorn'])\n",
        "\n",
        "import matplotlib.pyplot as plt\n",
        "cm_display.plot()\n",
        "plt.show()"
      ],
      "metadata": {
        "colab": {
          "base_uri": "https://localhost:8080/",
          "height": 455
        },
        "id": "WkOuWOAyewuB",
        "outputId": "760d10cd-1bac-4699-92a1-b536ad9f7f0a"
      },
      "execution_count": null,
      "outputs": [
        {
          "output_type": "display_data",
          "data": {
            "text/plain": [
              "<Figure size 640x480 with 2 Axes>"
            ],
            "image/png": "[encoded data removed]"
          },
          "metadata": {}
        }
      ]
    }
  ],
  "metadata": {
    "colab": {
      "provenance": []
    },
    "kernelspec": {
      "display_name": "Python 3",
      "language": "python",
      "name": "python3"
    },
    "language_info": {
      "codemirror_mode": {
        "name": "ipython",
        "version": 3
      },
      "file_extension": ".py",
      "mimetype": "text/x-python",
      "name": "python",
      "nbconvert_exporter": "python",
      "pygments_lexer": "ipython3",
      "version": "3.8.5"
    },
    "accelerator": "GPU",
    "gpuClass": "standard"
  },
  "nbformat": 4,
  "nbformat_minor": 0
}